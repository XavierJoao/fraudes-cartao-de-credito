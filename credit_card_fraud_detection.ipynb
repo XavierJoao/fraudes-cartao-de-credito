{
 "cells": [
  {
   "cell_type": "code",
   "execution_count": 1,
   "id": "2d5e42a4",
   "metadata": {},
   "outputs": [],
   "source": [
    "import warnings\n",
    "\n",
    "warnings.filterwarnings(\"ignore\", category=FutureWarning)\n",
    "warnings.filterwarnings(\"ignore\", category=UserWarning)\n",
    "warnings.filterwarnings(\"ignore\", category=DeprecationWarning)"
   ]
  },
  {
   "cell_type": "code",
   "execution_count": 2,
   "id": "5d922962",
   "metadata": {},
   "outputs": [],
   "source": [
    "# Importar bibliotecas necessárias\n",
    "import pandas as pd\n",
    "import numpy as np\n",
    "import matplotlib.pyplot as plt\n",
    "import seaborn as sns\n",
    "from sklearn.model_selection import train_test_split\n",
    "from sklearn.linear_model import LogisticRegression\n",
    "from sklearn.metrics import accuracy_score, classification_report, confusion_matrix, roc_auc_score\n",
    "from imblearn.over_sampling import SMOTE  # Técnica de Oversampling"
   ]
  },
  {
   "cell_type": "code",
   "execution_count": 3,
   "id": "c8ea7994",
   "metadata": {},
   "outputs": [],
   "source": [
    "# 1. Carregamento dos Dados\n",
    "df_credit = pd.read_csv('creditcard.csv')"
   ]
  },
  {
   "cell_type": "code",
   "execution_count": 4,
   "id": "4d9e0bce",
   "metadata": {
    "scrolled": true
   },
   "outputs": [
    {
     "name": "stdout",
     "output_type": "stream",
     "text": [
      "Amostra dos dados:\n"
     ]
    },
    {
     "data": {
      "text/html": [
       "<div>\n",
       "<style scoped>\n",
       "    .dataframe tbody tr th:only-of-type {\n",
       "        vertical-align: middle;\n",
       "    }\n",
       "\n",
       "    .dataframe tbody tr th {\n",
       "        vertical-align: top;\n",
       "    }\n",
       "\n",
       "    .dataframe thead th {\n",
       "        text-align: right;\n",
       "    }\n",
       "</style>\n",
       "<table border=\"1\" class=\"dataframe\">\n",
       "  <thead>\n",
       "    <tr style=\"text-align: right;\">\n",
       "      <th></th>\n",
       "      <th>Time</th>\n",
       "      <th>V1</th>\n",
       "      <th>V2</th>\n",
       "      <th>V3</th>\n",
       "      <th>V4</th>\n",
       "      <th>V5</th>\n",
       "      <th>V6</th>\n",
       "      <th>V7</th>\n",
       "      <th>V8</th>\n",
       "      <th>V9</th>\n",
       "      <th>...</th>\n",
       "      <th>V21</th>\n",
       "      <th>V22</th>\n",
       "      <th>V23</th>\n",
       "      <th>V24</th>\n",
       "      <th>V25</th>\n",
       "      <th>V26</th>\n",
       "      <th>V27</th>\n",
       "      <th>V28</th>\n",
       "      <th>Amount</th>\n",
       "      <th>Class</th>\n",
       "    </tr>\n",
       "  </thead>\n",
       "  <tbody>\n",
       "    <tr>\n",
       "      <th>0</th>\n",
       "      <td>0.0</td>\n",
       "      <td>-1.359807</td>\n",
       "      <td>-0.072781</td>\n",
       "      <td>2.536347</td>\n",
       "      <td>1.378155</td>\n",
       "      <td>-0.338321</td>\n",
       "      <td>0.462388</td>\n",
       "      <td>0.239599</td>\n",
       "      <td>0.098698</td>\n",
       "      <td>0.363787</td>\n",
       "      <td>...</td>\n",
       "      <td>-0.018307</td>\n",
       "      <td>0.277838</td>\n",
       "      <td>-0.110474</td>\n",
       "      <td>0.066928</td>\n",
       "      <td>0.128539</td>\n",
       "      <td>-0.189115</td>\n",
       "      <td>0.133558</td>\n",
       "      <td>-0.021053</td>\n",
       "      <td>149.62</td>\n",
       "      <td>0</td>\n",
       "    </tr>\n",
       "    <tr>\n",
       "      <th>1</th>\n",
       "      <td>0.0</td>\n",
       "      <td>1.191857</td>\n",
       "      <td>0.266151</td>\n",
       "      <td>0.166480</td>\n",
       "      <td>0.448154</td>\n",
       "      <td>0.060018</td>\n",
       "      <td>-0.082361</td>\n",
       "      <td>-0.078803</td>\n",
       "      <td>0.085102</td>\n",
       "      <td>-0.255425</td>\n",
       "      <td>...</td>\n",
       "      <td>-0.225775</td>\n",
       "      <td>-0.638672</td>\n",
       "      <td>0.101288</td>\n",
       "      <td>-0.339846</td>\n",
       "      <td>0.167170</td>\n",
       "      <td>0.125895</td>\n",
       "      <td>-0.008983</td>\n",
       "      <td>0.014724</td>\n",
       "      <td>2.69</td>\n",
       "      <td>0</td>\n",
       "    </tr>\n",
       "    <tr>\n",
       "      <th>2</th>\n",
       "      <td>1.0</td>\n",
       "      <td>-1.358354</td>\n",
       "      <td>-1.340163</td>\n",
       "      <td>1.773209</td>\n",
       "      <td>0.379780</td>\n",
       "      <td>-0.503198</td>\n",
       "      <td>1.800499</td>\n",
       "      <td>0.791461</td>\n",
       "      <td>0.247676</td>\n",
       "      <td>-1.514654</td>\n",
       "      <td>...</td>\n",
       "      <td>0.247998</td>\n",
       "      <td>0.771679</td>\n",
       "      <td>0.909412</td>\n",
       "      <td>-0.689281</td>\n",
       "      <td>-0.327642</td>\n",
       "      <td>-0.139097</td>\n",
       "      <td>-0.055353</td>\n",
       "      <td>-0.059752</td>\n",
       "      <td>378.66</td>\n",
       "      <td>0</td>\n",
       "    </tr>\n",
       "    <tr>\n",
       "      <th>3</th>\n",
       "      <td>1.0</td>\n",
       "      <td>-0.966272</td>\n",
       "      <td>-0.185226</td>\n",
       "      <td>1.792993</td>\n",
       "      <td>-0.863291</td>\n",
       "      <td>-0.010309</td>\n",
       "      <td>1.247203</td>\n",
       "      <td>0.237609</td>\n",
       "      <td>0.377436</td>\n",
       "      <td>-1.387024</td>\n",
       "      <td>...</td>\n",
       "      <td>-0.108300</td>\n",
       "      <td>0.005274</td>\n",
       "      <td>-0.190321</td>\n",
       "      <td>-1.175575</td>\n",
       "      <td>0.647376</td>\n",
       "      <td>-0.221929</td>\n",
       "      <td>0.062723</td>\n",
       "      <td>0.061458</td>\n",
       "      <td>123.50</td>\n",
       "      <td>0</td>\n",
       "    </tr>\n",
       "    <tr>\n",
       "      <th>4</th>\n",
       "      <td>2.0</td>\n",
       "      <td>-1.158233</td>\n",
       "      <td>0.877737</td>\n",
       "      <td>1.548718</td>\n",
       "      <td>0.403034</td>\n",
       "      <td>-0.407193</td>\n",
       "      <td>0.095921</td>\n",
       "      <td>0.592941</td>\n",
       "      <td>-0.270533</td>\n",
       "      <td>0.817739</td>\n",
       "      <td>...</td>\n",
       "      <td>-0.009431</td>\n",
       "      <td>0.798278</td>\n",
       "      <td>-0.137458</td>\n",
       "      <td>0.141267</td>\n",
       "      <td>-0.206010</td>\n",
       "      <td>0.502292</td>\n",
       "      <td>0.219422</td>\n",
       "      <td>0.215153</td>\n",
       "      <td>69.99</td>\n",
       "      <td>0</td>\n",
       "    </tr>\n",
       "  </tbody>\n",
       "</table>\n",
       "<p>5 rows × 31 columns</p>\n",
       "</div>"
      ],
      "text/plain": [
       "   Time        V1        V2        V3        V4        V5        V6        V7  \\\n",
       "0   0.0 -1.359807 -0.072781  2.536347  1.378155 -0.338321  0.462388  0.239599   \n",
       "1   0.0  1.191857  0.266151  0.166480  0.448154  0.060018 -0.082361 -0.078803   \n",
       "2   1.0 -1.358354 -1.340163  1.773209  0.379780 -0.503198  1.800499  0.791461   \n",
       "3   1.0 -0.966272 -0.185226  1.792993 -0.863291 -0.010309  1.247203  0.237609   \n",
       "4   2.0 -1.158233  0.877737  1.548718  0.403034 -0.407193  0.095921  0.592941   \n",
       "\n",
       "         V8        V9  ...       V21       V22       V23       V24       V25  \\\n",
       "0  0.098698  0.363787  ... -0.018307  0.277838 -0.110474  0.066928  0.128539   \n",
       "1  0.085102 -0.255425  ... -0.225775 -0.638672  0.101288 -0.339846  0.167170   \n",
       "2  0.247676 -1.514654  ...  0.247998  0.771679  0.909412 -0.689281 -0.327642   \n",
       "3  0.377436 -1.387024  ... -0.108300  0.005274 -0.190321 -1.175575  0.647376   \n",
       "4 -0.270533  0.817739  ... -0.009431  0.798278 -0.137458  0.141267 -0.206010   \n",
       "\n",
       "        V26       V27       V28  Amount  Class  \n",
       "0 -0.189115  0.133558 -0.021053  149.62      0  \n",
       "1  0.125895 -0.008983  0.014724    2.69      0  \n",
       "2 -0.139097 -0.055353 -0.059752  378.66      0  \n",
       "3 -0.221929  0.062723  0.061458  123.50      0  \n",
       "4  0.502292  0.219422  0.215153   69.99      0  \n",
       "\n",
       "[5 rows x 31 columns]"
      ]
     },
     "execution_count": 4,
     "metadata": {},
     "output_type": "execute_result"
    }
   ],
   "source": [
    "# 2. Análise Exploratória dos Dados\n",
    "print(\"Amostra dos dados:\")\n",
    "df_credit.head()"
   ]
  },
  {
   "cell_type": "code",
   "execution_count": 5,
   "id": "a89aeec1",
   "metadata": {},
   "outputs": [
    {
     "name": "stdout",
     "output_type": "stream",
     "text": [
      "\n",
      "Resumo dos Tipos de Dados e Valores Ausentes:\n"
     ]
    },
    {
     "data": {
      "text/html": [
       "<div>\n",
       "<style scoped>\n",
       "    .dataframe tbody tr th:only-of-type {\n",
       "        vertical-align: middle;\n",
       "    }\n",
       "\n",
       "    .dataframe tbody tr th {\n",
       "        vertical-align: top;\n",
       "    }\n",
       "\n",
       "    .dataframe thead th {\n",
       "        text-align: right;\n",
       "    }\n",
       "</style>\n",
       "<table border=\"1\" class=\"dataframe\">\n",
       "  <thead>\n",
       "    <tr style=\"text-align: right;\">\n",
       "      <th></th>\n",
       "      <th>Tipo de Dado</th>\n",
       "      <th>Valores Ausentes</th>\n",
       "    </tr>\n",
       "  </thead>\n",
       "  <tbody>\n",
       "    <tr>\n",
       "      <th>Time</th>\n",
       "      <td>float64</td>\n",
       "      <td>0</td>\n",
       "    </tr>\n",
       "    <tr>\n",
       "      <th>V1</th>\n",
       "      <td>float64</td>\n",
       "      <td>0</td>\n",
       "    </tr>\n",
       "    <tr>\n",
       "      <th>V2</th>\n",
       "      <td>float64</td>\n",
       "      <td>0</td>\n",
       "    </tr>\n",
       "    <tr>\n",
       "      <th>V3</th>\n",
       "      <td>float64</td>\n",
       "      <td>0</td>\n",
       "    </tr>\n",
       "    <tr>\n",
       "      <th>V4</th>\n",
       "      <td>float64</td>\n",
       "      <td>0</td>\n",
       "    </tr>\n",
       "    <tr>\n",
       "      <th>V5</th>\n",
       "      <td>float64</td>\n",
       "      <td>0</td>\n",
       "    </tr>\n",
       "    <tr>\n",
       "      <th>V6</th>\n",
       "      <td>float64</td>\n",
       "      <td>0</td>\n",
       "    </tr>\n",
       "    <tr>\n",
       "      <th>V7</th>\n",
       "      <td>float64</td>\n",
       "      <td>0</td>\n",
       "    </tr>\n",
       "    <tr>\n",
       "      <th>V8</th>\n",
       "      <td>float64</td>\n",
       "      <td>0</td>\n",
       "    </tr>\n",
       "    <tr>\n",
       "      <th>V9</th>\n",
       "      <td>float64</td>\n",
       "      <td>0</td>\n",
       "    </tr>\n",
       "    <tr>\n",
       "      <th>V10</th>\n",
       "      <td>float64</td>\n",
       "      <td>0</td>\n",
       "    </tr>\n",
       "    <tr>\n",
       "      <th>V11</th>\n",
       "      <td>float64</td>\n",
       "      <td>0</td>\n",
       "    </tr>\n",
       "    <tr>\n",
       "      <th>V12</th>\n",
       "      <td>float64</td>\n",
       "      <td>0</td>\n",
       "    </tr>\n",
       "    <tr>\n",
       "      <th>V13</th>\n",
       "      <td>float64</td>\n",
       "      <td>0</td>\n",
       "    </tr>\n",
       "    <tr>\n",
       "      <th>V14</th>\n",
       "      <td>float64</td>\n",
       "      <td>0</td>\n",
       "    </tr>\n",
       "    <tr>\n",
       "      <th>V15</th>\n",
       "      <td>float64</td>\n",
       "      <td>0</td>\n",
       "    </tr>\n",
       "    <tr>\n",
       "      <th>V16</th>\n",
       "      <td>float64</td>\n",
       "      <td>0</td>\n",
       "    </tr>\n",
       "    <tr>\n",
       "      <th>V17</th>\n",
       "      <td>float64</td>\n",
       "      <td>0</td>\n",
       "    </tr>\n",
       "    <tr>\n",
       "      <th>V18</th>\n",
       "      <td>float64</td>\n",
       "      <td>0</td>\n",
       "    </tr>\n",
       "    <tr>\n",
       "      <th>V19</th>\n",
       "      <td>float64</td>\n",
       "      <td>0</td>\n",
       "    </tr>\n",
       "    <tr>\n",
       "      <th>V20</th>\n",
       "      <td>float64</td>\n",
       "      <td>0</td>\n",
       "    </tr>\n",
       "    <tr>\n",
       "      <th>V21</th>\n",
       "      <td>float64</td>\n",
       "      <td>0</td>\n",
       "    </tr>\n",
       "    <tr>\n",
       "      <th>V22</th>\n",
       "      <td>float64</td>\n",
       "      <td>0</td>\n",
       "    </tr>\n",
       "    <tr>\n",
       "      <th>V23</th>\n",
       "      <td>float64</td>\n",
       "      <td>0</td>\n",
       "    </tr>\n",
       "    <tr>\n",
       "      <th>V24</th>\n",
       "      <td>float64</td>\n",
       "      <td>0</td>\n",
       "    </tr>\n",
       "    <tr>\n",
       "      <th>V25</th>\n",
       "      <td>float64</td>\n",
       "      <td>0</td>\n",
       "    </tr>\n",
       "    <tr>\n",
       "      <th>V26</th>\n",
       "      <td>float64</td>\n",
       "      <td>0</td>\n",
       "    </tr>\n",
       "    <tr>\n",
       "      <th>V27</th>\n",
       "      <td>float64</td>\n",
       "      <td>0</td>\n",
       "    </tr>\n",
       "    <tr>\n",
       "      <th>V28</th>\n",
       "      <td>float64</td>\n",
       "      <td>0</td>\n",
       "    </tr>\n",
       "    <tr>\n",
       "      <th>Amount</th>\n",
       "      <td>float64</td>\n",
       "      <td>0</td>\n",
       "    </tr>\n",
       "    <tr>\n",
       "      <th>Class</th>\n",
       "      <td>int64</td>\n",
       "      <td>0</td>\n",
       "    </tr>\n",
       "  </tbody>\n",
       "</table>\n",
       "</div>"
      ],
      "text/plain": [
       "       Tipo de Dado  Valores Ausentes\n",
       "Time        float64                 0\n",
       "V1          float64                 0\n",
       "V2          float64                 0\n",
       "V3          float64                 0\n",
       "V4          float64                 0\n",
       "V5          float64                 0\n",
       "V6          float64                 0\n",
       "V7          float64                 0\n",
       "V8          float64                 0\n",
       "V9          float64                 0\n",
       "V10         float64                 0\n",
       "V11         float64                 0\n",
       "V12         float64                 0\n",
       "V13         float64                 0\n",
       "V14         float64                 0\n",
       "V15         float64                 0\n",
       "V16         float64                 0\n",
       "V17         float64                 0\n",
       "V18         float64                 0\n",
       "V19         float64                 0\n",
       "V20         float64                 0\n",
       "V21         float64                 0\n",
       "V22         float64                 0\n",
       "V23         float64                 0\n",
       "V24         float64                 0\n",
       "V25         float64                 0\n",
       "V26         float64                 0\n",
       "V27         float64                 0\n",
       "V28         float64                 0\n",
       "Amount      float64                 0\n",
       "Class         int64                 0"
      ]
     },
     "execution_count": 5,
     "metadata": {},
     "output_type": "execute_result"
    }
   ],
   "source": [
    "# Checar tipos de dados e valores ausentes\n",
    "print(\"\\nResumo dos Tipos de Dados e Valores Ausentes:\")\n",
    "summary = pd.DataFrame({\n",
    "    'Tipo de Dado': df_credit.dtypes,\n",
    "    'Valores Ausentes': df_credit.isnull().sum()\n",
    "})\n",
    "summary\n"
   ]
  },
  {
   "cell_type": "code",
   "execution_count": 6,
   "id": "e6bd9a51",
   "metadata": {},
   "outputs": [
    {
     "data": {
      "image/png": "[encoded data removed]",
      "text/plain": [
       "<Figure size 800x600 with 1 Axes>"
      ]
     },
     "metadata": {},
     "output_type": "display_data"
    }
   ],
   "source": [
    "# Contar o número de fraudes e não fraudes\n",
    "class_counts = df_credit['Class'].value_counts()\n",
    "\n",
    "# Criar gráfico de barras\n",
    "plt.figure(figsize=(8, 6))\n",
    "sns.barplot(x=class_counts.index, y=class_counts.values, palette='viridis')\n",
    "\n",
    "# Adicionar título e rótulos\n",
    "plt.title('Distribuição de Fraudes e Não Fraudes', fontsize=16)\n",
    "plt.xlabel('Classe', fontsize=14)\n",
    "plt.ylabel('Contagem', fontsize=14)\n",
    "\n",
    "# Adicionar legendas\n",
    "plt.xticks(ticks=[0, 1], labels=['Não Fraude', 'Fraude'], fontsize=12)\n",
    "\n",
    "# Adicionar valor das contagens acima das barras\n",
    "for i in range(len(class_counts)):\n",
    "    plt.text(i, class_counts[i] + 10, class_counts[i], ha='center', fontsize=12)\n",
    "\n",
    "# Exibir gráfico\n",
    "plt.grid(axis='y', linestyle='--')\n",
    "plt.tight_layout()  # Melhora o espaçamento\n",
    "plt.show()"
   ]
  },
  {
   "cell_type": "markdown",
   "id": "4a854b08",
   "metadata": {},
   "source": [
    "## Análise da Distribuição de Fraudes e Não Fraudes\n",
    "\n",
    "Podemos observar  no gráfico que há uma distribuição significativamente desigual entre os casos de fraudes e não fraudes. O número de fraudes em transações é muito menor do que o de transações não fraudulentas, o que pode levar a um viés no treinamento do modelo. Isso significa que, se não tratarmos essa desproporção, o modelo pode aprender a prever apenas a classe casos de não fraude, o que tornaria o tornaria inútil para nossa aplicação.\n",
    "\n",
    "Inicialmente, eu planejava reduzir a quantidade de dados de não fraudes para equilibrar o conjunto de dados, utilizando uma abordagem de subamostragem. Contudo, após aprender sobre a técnica SMOTE (Synthetic Minority Over-sampling Technique), percebi que essa seria uma solução mais adequada. A técnica SMOTE cria novas amostras sintéticas da classe minoritária (fraude), permitindo que o modelo seja treinado de maneira mais eficaz, sem perder informações valiosas da classe majoritária.\n",
    "\n",
    "[Mais sobre a técnica SMOTE](https://learn.microsoft.com/pt-br/azure/machine-learning/component-reference/smote?view=azureml-api-2)"
   ]
  },
  {
   "cell_type": "code",
   "execution_count": 7,
   "id": "10e2fca7",
   "metadata": {},
   "outputs": [],
   "source": [
    "# 3. Pré-processamento e Balanceamento de Dados\n",
    "X = df_credit.drop(['Class', 'Time'], axis=1)\n",
    "y = df_credit['Class']"
   ]
  },
  {
   "cell_type": "code",
   "execution_count": 8,
   "id": "d0a4ca4c",
   "metadata": {},
   "outputs": [],
   "source": [
    "# Aplicar o SMOTE para balancear o dataset\n",
    "smote = SMOTE(random_state=42)\n",
    "X_res, y_res = smote.fit_resample(X, y)"
   ]
  },
  {
   "cell_type": "code",
   "execution_count": 9,
   "id": "1e5615d5",
   "metadata": {},
   "outputs": [
    {
     "name": "stdout",
     "output_type": "stream",
     "text": [
      "\n",
      "Distribuição de Classes Após SMOTE:\n",
      "Class\n",
      "0    284315\n",
      "1    284315\n",
      "Name: count, dtype: int64\n"
     ]
    }
   ],
   "source": [
    "# Verificar a nova distribuição das classes após o balanceamento\n",
    "print(\"\\nDistribuição de Classes Após SMOTE:\")\n",
    "print(y_res.value_counts())"
   ]
  },
  {
   "cell_type": "code",
   "execution_count": 10,
   "id": "080b5501",
   "metadata": {},
   "outputs": [],
   "source": [
    "# 4. Separação dos Dados em Treinamento e Teste\n",
    "X_train, X_test, y_train, y_test = train_test_split(X_res, y_res, test_size=0.2, random_state=42)"
   ]
  },
  {
   "cell_type": "code",
   "execution_count": 11,
   "id": "ff73fbf4",
   "metadata": {},
   "outputs": [
    {
     "data": {
      "text/plain": [
       "LogisticRegression(max_iter=1000, random_state=42)"
      ]
     },
     "execution_count": 11,
     "metadata": {},
     "output_type": "execute_result"
    }
   ],
   "source": [
    "# 5. Treinamento do Modelo de Regressão Logística\n",
    "lr = LogisticRegression(max_iter=1000, random_state=42)\n",
    "lr.fit(X_train, y_train)"
   ]
  },
  {
   "cell_type": "code",
   "execution_count": 12,
   "id": "a784d0f8",
   "metadata": {},
   "outputs": [],
   "source": [
    "# 6. Avaliação do Modelo\n",
    "# Previsão e acurácia no conjunto de teste\n",
    "pred_test = lr.predict(X_test)\n",
    "acc = accuracy_score(y_test, pred_test)\n",
    "roc_auc = roc_auc_score(y_test, lr.predict_proba(X_test)[:, 1])"
   ]
  },
  {
   "cell_type": "code",
   "execution_count": 13,
   "id": "53bb3683",
   "metadata": {},
   "outputs": [
    {
     "name": "stdout",
     "output_type": "stream",
     "text": [
      "\n",
      "Acurácia do Modelo: 95.97%\n",
      "AUC-ROC: 0.99\n",
      "\n",
      "Relatório de Classificação:\n",
      "              precision    recall  f1-score   support\n",
      "\n",
      "           0       0.94      0.98      0.96     56750\n",
      "           1       0.98      0.94      0.96     56976\n",
      "\n",
      "    accuracy                           0.96    113726\n",
      "   macro avg       0.96      0.96      0.96    113726\n",
      "weighted avg       0.96      0.96      0.96    113726\n",
      "\n"
     ]
    }
   ],
   "source": [
    "print(f\"\\nAcurácia do Modelo: {acc * 100:.2f}%\")\n",
    "print(f\"AUC-ROC: {roc_auc:.2f}\")\n",
    "print(\"\\nRelatório de Classificação:\")\n",
    "print(classification_report(y_test, pred_test))"
   ]
  },
  {
   "cell_type": "code",
   "execution_count": 14,
   "id": "ab3e3957",
   "metadata": {},
   "outputs": [
    {
     "data": {
      "image/png": "[encoded data removed]",
      "text/plain": [
       "<Figure size 640x480 with 2 Axes>"
      ]
     },
     "metadata": {},
     "output_type": "display_data"
    }
   ],
   "source": [
    "# Matriz de Confusão\n",
    "cm = confusion_matrix(y_test, pred_test)\n",
    "sns.heatmap(cm, annot=True, fmt=\"d\", cmap=\"Blues\", xticklabels=['Não Fraude', 'Fraude'], yticklabels=['Não Fraude', 'Fraude'])\n",
    "plt.ylabel('Real')\n",
    "plt.xlabel('Previsto')\n",
    "plt.title('Matriz de Confusão')\n",
    "plt.show()"
   ]
  },
  {
   "cell_type": "code",
   "execution_count": 15,
   "id": "438bf86b",
   "metadata": {},
   "outputs": [],
   "source": [
    "# 7. Validação Final em um Conjunto de Validação\n",
    "# Seleção de uma amostra de validação de fraudes e não fraudes\n",
    "df_val_nao_fraude = df_credit[df_credit['Class'] == 0].sample(n=5, random_state=42)\n",
    "df_val_fraude = df_credit[df_credit['Class'] == 1].sample(n=5, random_state=42)\n",
    "df_val_total = pd.concat([df_val_nao_fraude, df_val_fraude])\n",
    "df_val_total = df_val_total.reset_index(drop=True)"
   ]
  },
  {
   "cell_type": "code",
   "execution_count": 16,
   "id": "bb905d6d",
   "metadata": {},
   "outputs": [],
   "source": [
    "# Separação das features e labels\n",
    "X_val = df_val_total.drop(['Class', 'Time'], axis=1)\n",
    "y_val = df_val_total['Class']"
   ]
  },
  {
   "cell_type": "code",
   "execution_count": 17,
   "id": "80cab95b",
   "metadata": {},
   "outputs": [],
   "source": [
    "# Previsão na validação\n",
    "pred_val = lr.predict(X_val)\n",
    "df_val_total['Previsão'] = pred_val"
   ]
  },
  {
   "cell_type": "code",
   "execution_count": 18,
   "id": "3b32e5a4",
   "metadata": {},
   "outputs": [
    {
     "name": "stdout",
     "output_type": "stream",
     "text": [
      "\n",
      "Resultados de Validação:\n",
      "   Class  Previsão\n",
      "0      0         0\n",
      "1      0         0\n",
      "2      0         0\n",
      "3      0         0\n",
      "4      0         0\n",
      "5      1         1\n",
      "6      1         1\n",
      "7      1         1\n",
      "8      1         1\n",
      "9      1         1\n"
     ]
    }
   ],
   "source": [
    "# Mostrar resultados de validação\n",
    "print(\"\\nResultados de Validação:\")\n",
    "print(df_val_total[['Class', 'Previsão']])"
   ]
  },
  {
   "cell_type": "code",
   "execution_count": 19,
   "id": "1177c689",
   "metadata": {},
   "outputs": [
    {
     "name": "stdout",
     "output_type": "stream",
     "text": [
      "\n",
      "Acurácia na Validação: 100.00%\n"
     ]
    }
   ],
   "source": [
    "# Acurácia na validação\n",
    "acc_val = accuracy_score(y_val, pred_val)\n",
    "print(f\"\\nAcurácia na Validação: {acc_val * 100:.2f}%\")"
   ]
  }
 ],
 "metadata": {
  "kernelspec": {
   "display_name": "Detecção de Fraudes",
   "language": "python",
   "name": "detectar-fraudes"
  },
  "language_info": {
   "codemirror_mode": {
    "name": "ipython",
    "version": 3
   },
   "file_extension": ".py",
   "mimetype": "text/x-python",
   "name": "python",
   "nbconvert_exporter": "python",
   "pygments_lexer": "ipython3",
   "version": "3.9.13"
  }
 },
 "nbformat": 4,
 "nbformat_minor": 5
}
